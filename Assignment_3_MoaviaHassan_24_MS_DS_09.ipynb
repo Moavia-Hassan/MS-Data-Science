{
  "nbformat": 4,
  "nbformat_minor": 0,
  "metadata": {
    "colab": {
      "provenance": [],
      "include_colab_link": true
    },
    "kernelspec": {
      "name": "python3",
      "display_name": "Python 3"
    },
    "language_info": {
      "name": "python"
    }
  },
  "cells": [
    {
      "cell_type": "markdown",
      "metadata": {
        "id": "view-in-github",
        "colab_type": "text"
      },
      "source": [
        "<a href=\"https://colab.research.google.com/github/Moavia-Hassan/MS-Data-Science/blob/main/Assignment_3_MoaviaHassan_24_MS_DS_09.ipynb\" target=\"_parent\"><img src=\"https://colab.research.google.com/assets/colab-badge.svg\" alt=\"Open In Colab\"/></a>"
      ]
    },
    {
      "cell_type": "markdown",
      "source": [
        "# **ASSIGNMENT 3**\n",
        "# **Normal, Binomial and Poison Distribution**\n",
        "\n",
        "---"
      ],
      "metadata": {
        "id": "cRBHYkPHfWDm"
      }
    },
    {
      "cell_type": "markdown",
      "source": [
        "Q-1 For a particular type of wool the number of ‘crimps per 10cm’ follows a normal\n",
        "distribution with mean 15.1 and standard deviation 4.79.\n",
        "\n",
        "a) What proportion of wool would have a ‘crimp per 10 cm’ measurement of 6\n",
        "or less?\n",
        "\n",
        "b) If more than 7% of the wool has a ‘crimp per 10 cm’ measurement of 6 or\n",
        "less, then the wool is unsatisfactory for a particular processing. Is the\n",
        "wool satisfactory for this processing?"
      ],
      "metadata": {
        "id": "5_Uck1kodBGg"
      }
    },
    {
      "cell_type": "code",
      "execution_count": null,
      "metadata": {
        "id": "qhsWLShHag7l"
      },
      "outputs": [],
      "source": []
    },
    {
      "cell_type": "markdown",
      "source": [
        "Q-2 The finish times for marathon runners during a race are normally distributed\n",
        "with a mean of 195 minutes and a standard deviation of 25 minutes.\n",
        "\n",
        "a) What is the probability that a runner will complete the marathon within 3\n",
        "hours?\n",
        "\n",
        "b) Calculate to the nearest minute, the time by which the first 8% runners\n",
        "have completed the marathon.\n",
        "\n",
        "c) What proportion of the runners will complete the marathon between 3\n",
        "hours and 4 hours?\n"
      ],
      "metadata": {
        "id": "EjiOTu8SdPtu"
      }
    },
    {
      "cell_type": "code",
      "source": [],
      "metadata": {
        "id": "wf0suGmJdN8z"
      },
      "execution_count": null,
      "outputs": []
    },
    {
      "cell_type": "markdown",
      "source": [
        "Q-3 The download time of a resource web page is normally distributed with a\n",
        "mean of 6.5 seconds and a standard deviation of 2.3 seconds.\n",
        "\n",
        "a) What proportion of page downloads take less than 5 seconds?\n",
        "\n",
        "b) What is the probability that the download time will be between 4 and 10\n",
        "seconds?\n",
        "\n",
        "c) How many seconds will it take for 35% of the downloads to be\n",
        "completed?"
      ],
      "metadata": {
        "id": "R0UfVActdfj3"
      }
    },
    {
      "cell_type": "code",
      "source": [],
      "metadata": {
        "id": "Es-CHY37dyrJ"
      },
      "execution_count": null,
      "outputs": []
    },
    {
      "cell_type": "markdown",
      "source": [
        "Q-4 An automatic camera records the number of cars running a red light at an\n",
        "intersection (that is, the cars were going through when the red light was against the\n",
        "car). Analysis of the data shows that on average 15% of light changes record a car\n",
        "running a red light. Assume that the data has a binomial distribution. What is the\n",
        "probability that in 20 light changes there will be exactly three (3) cars running a red\n",
        "light?"
      ],
      "metadata": {
        "id": "pgu02wmydzcu"
      }
    },
    {
      "cell_type": "code",
      "source": [],
      "metadata": {
        "id": "FURuP0I-d-CM"
      },
      "execution_count": null,
      "outputs": []
    },
    {
      "cell_type": "markdown",
      "source": [
        "Q-5 Executives in the New Zealand Forestry Industry claim that only 5% of all old\n",
        "sawmills sites contain soil residuals of dioxin (an additive previously used for\n",
        "anti-sap-stain treatment in wood) higher than the recommended level. If\n",
        "Environment Canterbury randomly selects 20 old saw mill sites for inspection,\n",
        "assuming that the executive claim is correct:\n",
        "\n",
        "a) Calculate the probability that less than 1 site exceeds the recommended level\n",
        "of dioxin.\n",
        "\n",
        "b) Calculate the probability that less than or equal to 1 site exceed the\n",
        "recommended level of dioxin.\n",
        "\n",
        "c) Calculate the probability that at most (i.e., maximum of) 2 sites exceed the\n",
        "recommended level of dioxin.\n"
      ],
      "metadata": {
        "id": "2j1bMesSd-bC"
      }
    },
    {
      "cell_type": "code",
      "source": [],
      "metadata": {
        "id": "1raEnKJBeTNq"
      },
      "execution_count": null,
      "outputs": []
    },
    {
      "cell_type": "markdown",
      "source": [
        "Q-6 Inland Revenue audits 5% of all companies every year. The companies selected\n",
        "for auditing in any one year are independent of the previous year’s selection.\n",
        "\n",
        "a) What is the probability that the company ‘Ross Waste Disposal’ will be\n",
        "selected for auditing exactly twice in the next 5 years?\n",
        "\n",
        "b) What is the probability that the company will be audited exactly twice in the\n",
        "next 2 years?\n",
        "\n",
        "c) What is the exact probability that this company will be audited at least once in\n",
        "the next 4 years?\n"
      ],
      "metadata": {
        "id": "_Omp80eleTmY"
      }
    },
    {
      "cell_type": "code",
      "source": [],
      "metadata": {
        "id": "HsbggOAJedog"
      },
      "execution_count": null,
      "outputs": []
    },
    {
      "cell_type": "markdown",
      "source": [
        "Q-7 The probability that a driver must stop at any one traffic light coming to Lincoln\n",
        "University is 0.2. There are 15 sets of traffic lights on the journey.\n",
        "\n",
        "a) What is the probability that a student must stop at exactly 2 of the 15 sets of\n",
        "traffic lights?\n",
        "\n",
        "b) What is the probability that a student will be stopped at 1 or more of the 15\n",
        "sets of traffic lights?"
      ],
      "metadata": {
        "id": "D4QSwHUJed8p"
      }
    },
    {
      "cell_type": "code",
      "source": [],
      "metadata": {
        "id": "N2gn7FZBek8w"
      },
      "execution_count": null,
      "outputs": []
    },
    {
      "cell_type": "markdown",
      "source": [
        "Q-8 The average number of accidents at a level-crossing every year\n",
        "is 5. Calculate the probability that there are exactly 3 accidents\n",
        "there this year."
      ],
      "metadata": {
        "id": "-4i7dYw1elHL"
      }
    },
    {
      "cell_type": "code",
      "source": [],
      "metadata": {
        "id": "fxi4yqPGe0cj"
      },
      "execution_count": null,
      "outputs": []
    },
    {
      "cell_type": "markdown",
      "source": [
        "Q-9 A radioactive source emits 4 particles on average during a five-second period.\n",
        "\n",
        "a) Calculate the probability that it emits 3 particles during a 5-second\n",
        "period.\n",
        "\n",
        "b) Calculate the probability that it emits at least one particle during a 5-\n",
        "second period.\n",
        "\n",
        "c) During a ten-second period, what is the probability that 6 particles are\n",
        "emitted?\n"
      ],
      "metadata": {
        "id": "STuGHjdZe0uM"
      }
    },
    {
      "cell_type": "code",
      "source": [],
      "metadata": {
        "id": "jbvA0Avze7Pn"
      },
      "execution_count": null,
      "outputs": []
    },
    {
      "cell_type": "markdown",
      "source": [
        "Q-10 The number of typing mistakes made by a secretary has a Poisson\n",
        "distribution. The mistakes are made independently at an average rate of 1.65\n",
        "per page. Find the probability that a three-page letter contains no mistakes."
      ],
      "metadata": {
        "id": "B6yD2OK9e7Zy"
      }
    },
    {
      "cell_type": "code",
      "source": [],
      "metadata": {
        "id": "v2b_rK24fGYn"
      },
      "execution_count": null,
      "outputs": []
    },
    {
      "cell_type": "markdown",
      "source": [
        "Q-11 A 5-litre bucket of water is taken from a swamp. The water contains 75\n",
        "mosquito larvae. A 200mL flask of water is taken form the bucket for further\n",
        "analysis. What is\n",
        "\n",
        "a) the expected number of larvae in the flask?\n",
        "\n",
        "b) the probability that the flask contains at least one mosquito lava?"
      ],
      "metadata": {
        "id": "lxMHGwLlfGkM"
      }
    },
    {
      "cell_type": "code",
      "source": [],
      "metadata": {
        "id": "8ko5J6bOfQhS"
      },
      "execution_count": null,
      "outputs": []
    },
    {
      "cell_type": "markdown",
      "source": [
        "Q-12 If the light bulbs in a house fail according to a Poisson law, and over the last\n",
        "15 weeks there have been 5 failures, find the probability that there will not be\n",
        "more than one failure next week."
      ],
      "metadata": {
        "id": "tEhd7TnXfQrf"
      }
    },
    {
      "cell_type": "code",
      "source": [],
      "metadata": {
        "id": "-6YyuNzRsFMT"
      },
      "execution_count": null,
      "outputs": []
    }
  ]
}